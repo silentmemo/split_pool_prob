    "collision_rate =  collision_count / (collision_count + unique_count)\n"
   ]
  },
  {
   "cell_type": "code",
   "execution_count": 12,
   "metadata": {},
   "outputs": [
    {
     "output_type": "stream",
     "name": "stdout",
     "text": [
      "total nuclei generated:  5826\nrecovered barcodes:  5662\ncollision rate:  0.05526948163405424\n"
     ]
    }
   ],
   "source": [
    "\n",
    "total_nuclei = len(df)\n",
    "recovered_barcode = len(frequency_of_each_combination)\n",
    "cluster_per_nucleus = round(400000000/recovered_barcode)\n",
    "print(\"total nuclei generated: \",total_nuclei)\n",
    "print(\"recovered barcodes: \",recovered_barcode)\n",
    "print(\"collision rate: \",collision_rate)"
   ]
  },
  {
   "cell_type": "code",
   "execution_count": 11,
   "metadata": {},
   "outputs": [
    {
     "output_type": "stream",
     "name": "stdout",
     "text": [
      "TAG38|PCR41    3\nTAG28|PCR39    2\nTAG69|PCR17    2\nTAG59|PCR38    2\nTAG54|PCR89    2\n              ..\nTAG81|PCR95    1\nTAG58|PCR12    1\nTAG3|PCR9      1\nTAG74|PCR92    1\nTAG54|PCR30    1\nName: barcode_index, Length: 903, dtype: int64\n"
     ]
    }
   ],
   "source": []
  },
  {
   "cell_type": "code",
   "execution_count": 11,
   "metadata": {},
   "outputs": [
    {
     "output_type": "execute_result",
     "data": {
      "text/plain": [
       "       tag_barcode pcr_index  barcode_index  pcr_well\n",
       "52932        TAG40      PCR1     TAG40|PCR1         1\n",
       "167414      TAG128      PCR1    TAG128|PCR1         1\n",
       "448514      TAG344      PCR1    TAG344|PCR1         1\n",
       "9838          TAG7      PCR1      TAG7|PCR1         1\n",
       "393266      TAG302      PCR1    TAG302|PCR1         1\n",
       "...            ...       ...            ...       ...\n",
       "369040      TAG283    PCR383  TAG283|PCR383       383\n",
       "25381        TAG19    PCR383   TAG19|PCR383       383\n",
       "111023       TAG85    PCR383   TAG85|PCR383       383\n",
       "68549        TAG52    PCR383   TAG52|PCR383       383\n",
       "207930      TAG159    PCR383  TAG159|PCR383       383\n",
       "\n",
       "[5826 rows x 4 columns]"
      ],
      "text/html": "<div>\n<style scoped>\n    .dataframe tbody tr th:only-of-type {\n        vertical-align: middle;\n    }\n\n    .dataframe tbody tr th {\n        vertical-align: top;\n    }\n\n    .dataframe thead th {\n        text-align: right;\n    }\n</style>\n<table border=\"1\" class=\"dataframe\">\n  <thead>\n    <tr style=\"text-align: right;\">\n      <th></th>\n      <th>tag_barcode</th>\n      <th>pcr_index</th>\n      <th>barcode_index</th>\n      <th>pcr_well</th>\n    </tr>\n  </thead>\n  <tbody>\n    <tr>\n      <th>52932</th>\n      <td>TAG40</td>\n      <td>PCR1</td>\n      <td>TAG40|PCR1</td>\n      <td>1</td>\n    </tr>\n    <tr>\n      <th>167414</th>\n      <td>TAG128</td>\n      <td>PCR1</td>\n      <td>TAG128|PCR1</td>\n      <td>1</td>\n    </tr>\n    <tr>\n      <th>448514</th>\n      <td>TAG344</td>\n      <td>PCR1</td>\n      <td>TAG344|PCR1</td>\n      <td>1</td>\n    </tr>\n    <tr>\n      <th>9838</th>\n      <td>TAG7</td>\n      <td>PCR1</td>\n      <td>TAG7|PCR1</td>\n      <td>1</td>\n    </tr>\n    <tr>\n      <th>393266</th>\n      <td>TAG302</td>\n      <td>PCR1</td>\n      <td>TAG302|PCR1</td>\n      <td>1</td>\n    </tr>\n    <tr>\n      <th>...</th>\n      <td>...</td>\n      <td>...</td>\n      <td>...</td>\n      <td>...</td>\n    </tr>\n    <tr>\n      <th>369040</th>\n      <td>TAG283</td>\n      <td>PCR383</td>\n      <td>TAG283|PCR383</td>\n      <td>383</td>\n    </tr>\n    <tr>\n      <th>25381</th>\n      <td>TAG19</td>\n      <td>PCR383</td>\n      <td>TAG19|PCR383</td>\n      <td>383</td>\n    </tr>\n    <tr>\n      <th>111023</th>\n      <td>TAG85</td>\n      <td>PCR383</td>\n      <td>TAG85|PCR383</td>\n      <td>383</td>\n    </tr>\n    <tr>\n      <th>68549</th>\n      <td>TAG52</td>\n      <td>PCR383</td>\n      <td>TAG52|PCR383</td>\n      <td>383</td>\n    </tr>\n    <tr>\n      <th>207930</th>\n      <td>TAG159</td>\n      <td>PCR383</td>\n      <td>TAG159|PCR383</td>\n      <td>383</td>\n    </tr>\n  </tbody>\n</table>\n<p>5826 rows × 4 columns</p>\n</div>"
     },
     "metadata": {},
     "execution_count": 11
    }
   ],
   "source": [
    "df"
   ]
  }
 ]
}