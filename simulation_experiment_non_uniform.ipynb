{
 "metadata": {
  "language_info": {
   "codemirror_mode": {
    "name": "ipython",
    "version": 3
   },
   "file_extension": ".py",
   "mimetype": "text/x-python",
   "name": "python",
   "nbconvert_exporter": "python",
   "pygments_lexer": "ipython3",
   "version": "3.8.5"
  },
  "orig_nbformat": 2,
  "kernelspec": {
   "name": "python385jvsc74a57bd07e42dccc49e1207e8a3c533693ed15026faa9956dd3711922ea8d0c6b946ac24",
   "display_name": "Python 3.8.5 64-bit ('base': conda)"
  }
 },
 "nbformat": 4,
 "nbformat_minor": 2,
 "cells": [
  {
   "cell_type": "code",
   "execution_count": 1,
   "metadata": {},
   "outputs": [],
   "source": [
    "import random\n",
    "import matplotlib.pyplot as plt\n",
    "import numpy as np"
   ]
  },
  {
   "cell_type": "code",
   "execution_count": 2,
   "metadata": {},
   "outputs": [],
   "source": [
    "number_of_tag_barcode = 384\n",
    "number_of_pcr_index = 384\n",
    "input_cell_number = 500000\n",
    "### sort_cell_number determine by the distribution sampling  \n"
   ]
  },
  {
   "cell_type": "code",
   "execution_count": 3,
   "metadata": {},
   "outputs": [],
   "source": [
    "#### create normal distribution model, e.g. normal distribution \n",
    "\n",
    "def normal_distribution_sampling(input_mean, input_sd): \n",
    "    if round(np.random.normal(input_mean,input_sd)) >0 :\n",
    "        return round(np.random.normal(input_mean,input_sd))\n",
    "    else : \n",
    "        return 0\n"
   ]
  },
  {
   "cell_type": "code",
   "execution_count": 4,
   "metadata": {},
   "outputs": [],
   "source": [
    "tag_barcode_name_list = []\n",
    "for i in range(number_of_tag_barcode):\n",
    "    tag_barcode_name_list.append(\"TAG\"+str(i))\n",
    "\n",
    "pcr_index_name_list = []\n",
    "for i in range(number_of_pcr_index):\n",
    "    pcr_index_name_list.append(\"PCR\"+str(i))\n"
   ]
  },
  {
   "cell_type": "code",
   "execution_count": 5,
   "metadata": {},
   "outputs": [],
   "source": [
    "###\n",
    "class cell:\n",
    "    def __init__(self, cellID):\n",
    "        self.cellID = cellID\n",
    "    def set_tag_barcode(self, tag_barcode):\n",
    "        self.tag_barcode = tag_barcode\n",
    "    def set_pcr_index(self,pcr_index):\n",
    "        self.pcr_index = pcr_index\n",
    "\n",
    "    def get_tag_barcode(self):\n",
    "        return self.tag_barcode\n",
    "    def get_pcr_index(self):\n",
    "        return self.pcr_index\n",
    "    def get_cell_info(self):\n",
    "        cell_info = self.tag_barcode + \"|\" + self.pcr_index\n",
    "        return cell_info\n",
    "        \n",
    "def select_randomly_from_list(inputList):\n",
    "    random_index = random.randrange(len(inputList))\n",
    "    return inputList[random_index]"
   ]
  },
  {
   "cell_type": "code",
   "execution_count": 6,
   "metadata": {
    "tags": []
   },
   "outputs": [],
   "source": [
    "### randomly add cell with tag_barcode\n",
    "cell_dict={}\n",
    "cellID_count =0\n",
    "for well in range(len(tag_barcode_name_list)):\n",
    "    this_well_dict = {}\n",
    "    ### determine sort cell number here \n",
    "    distribution_mean = 1000\n",
    "    distribution_sd = 100\n",
    "    sort_cell_number = normal_distribution_sampling(distribution_mean,distribution_sd)\n",
    "    for i in range(round(input_cell_number/len(tag_barcode_name_list))):\n",
    "        cellID_count = cellID_count+1\n",
    "        this_cell = cell(str(cellID_count))\n",
    "        chosen_tag_barcode = tag_barcode_name_list[well]\n",
    "        this_cell.set_tag_barcode(chosen_tag_barcode)\n",
    "        cell_dict[cellID_count] = this_cell\n",
    "# print(cell_dict)\n"
   ]
  },
  {
   "cell_type": "code",
   "execution_count": 7,
   "metadata": {
    "tags": []
   },
   "outputs": [],
   "source": [
    "### randomly sort a number of cell to one of the pcr_index well \n",
    "\n",
    "second_cell_dict = {}\n",
    "for well in range(len(pcr_index_name_list)):\n",
    "    ### pcr_index_name_list[idx] is selected, sort k number of cell into this well\n",
    "    ### randomly drawn form the cell_dict \n",
    "    this_well_dict = {}\n",
    "    #### determine sort_cell_number here \n",
    "\n",
    "    distribution_mean = 15\n",
    "    distribution_sd = 10\n",
    "    sort_cell_number = normal_distribution_sampling(distribution_mean,distribution_sd)\n",
    "    for k in range(sort_cell_number):\n",
    "        idx = random.choice(list(cell_dict))\n",
    "        chosen_cell = cell_dict[idx]\n",
    "        cell_dict.pop(idx)\n",
    "        chosen_index =  pcr_index_name_list[well]\n",
    "        chosen_cell.set_pcr_index(chosen_index)\n",
    "        \n",
    "        ### build some info to work with downstream\n",
    "        cell_information = {\"tag_barcode\" : chosen_cell.get_tag_barcode(), \"pcr_index\" : chosen_cell.get_pcr_index(),\"barcode_index\" : chosen_cell.get_cell_info(),\"pcr_well\" : well }\n",
    "        this_well_dict[idx] = cell_information \n",
    "    second_cell_dict[well] = this_well_dict.copy()"
   ]
  },
  {
   "cell_type": "code",
   "execution_count": 8,
   "metadata": {
    "tags": []
   },
   "outputs": [],
   "source": [
    "pooled_cell_dict ={} ### pooled final dict\n",
    "for well in second_cell_dict:\n",
    "    cell_in_well_dict = second_cell_dict[well]\n",
    "    for cell in cell_in_well_dict:\n",
    "        # print(type(cell_in_well_dict[cell]))\n",
    "        pooled_cell_dict[cell] = cell_in_well_dict[cell].copy()"
   ]
  },
  {
   "cell_type": "code",
   "execution_count": 9,
   "metadata": {},
   "outputs": [],
   "source": [
    "### calculate simulation collition rate\n",
    "import pandas as pd\n",
    "df = pd.DataFrame.from_dict(pooled_cell_dict,    orient=\"index\")\n",
    "frequency_of_each_combination = df[\"barcode_index\"].value_counts()\n",
    "collision_count = 0\n",
    "unique_count =0\n",
    "for item in frequency_of_each_combination:\n",
    "    if item != 1:\n",
    "        collision_count = collision_count + item\n",
    "    else: \n",
    "        unique_count = unique_count + item\n",
    "### collision rate as a fraction of total \n",
    "collision_rate =  collision_count / (collision_count + unique_count)\n"
   ]
  },
  {
   "cell_type": "code",
   "execution_count": 12,
   "metadata": {},
   "outputs": [
    {
     "output_type": "stream",
     "name": "stdout",
     "text": [
      "total nuclei generated:  5826\nrecovered barcodes:  5662\ncollision rate:  0.05526948163405424\n"
     ]
    }
   ],
   "source": [
    "\n",
    "total_nuclei = len(df)\n",
    "recovered_barcode = len(frequency_of_each_combination)\n",
    "cluster_per_nucleus = round(400000000/recovered_barcode)\n",
    "print(\"total nuclei generated: \",total_nuclei)\n",
    "print(\"recovered barcodes: \",recovered_barcode)\n",
    "print(\"collision rate: \",collision_rate)"
   ]
  },
  {
   "cell_type": "code",
   "execution_count": 11,
   "metadata": {},
   "outputs": [
    {
     "output_type": "stream",
     "name": "stdout",
     "text": [
      "TAG38|PCR41    3\nTAG28|PCR39    2\nTAG69|PCR17    2\nTAG59|PCR38    2\nTAG54|PCR89    2\n              ..\nTAG81|PCR95    1\nTAG58|PCR12    1\nTAG3|PCR9      1\nTAG74|PCR92    1\nTAG54|PCR30    1\nName: barcode_index, Length: 903, dtype: int64\n"
     ]
    }
   ],
   "source": []
  },
  {
   "cell_type": "code",
   "execution_count": 11,
   "metadata": {},
   "outputs": [
    {
     "output_type": "execute_result",
     "data": {
      "text/plain": [
       "       tag_barcode pcr_index  barcode_index  pcr_well\n",
       "52932        TAG40      PCR1     TAG40|PCR1         1\n",
       "167414      TAG128      PCR1    TAG128|PCR1         1\n",
       "448514      TAG344      PCR1    TAG344|PCR1         1\n",
       "9838          TAG7      PCR1      TAG7|PCR1         1\n",
       "393266      TAG302      PCR1    TAG302|PCR1         1\n",
       "...            ...       ...            ...       ...\n",
       "369040      TAG283    PCR383  TAG283|PCR383       383\n",
       "25381        TAG19    PCR383   TAG19|PCR383       383\n",
       "111023       TAG85    PCR383   TAG85|PCR383       383\n",
       "68549        TAG52    PCR383   TAG52|PCR383       383\n",
       "207930      TAG159    PCR383  TAG159|PCR383       383\n",
       "\n",
       "[5826 rows x 4 columns]"
      ],
      "text/html": "<div>\n<style scoped>\n    .dataframe tbody tr th:only-of-type {\n        vertical-align: middle;\n    }\n\n    .dataframe tbody tr th {\n        vertical-align: top;\n    }\n\n    .dataframe thead th {\n        text-align: right;\n    }\n</style>\n<table border=\"1\" class=\"dataframe\">\n  <thead>\n    <tr style=\"text-align: right;\">\n      <th></th>\n      <th>tag_barcode</th>\n      <th>pcr_index</th>\n      <th>barcode_index</th>\n      <th>pcr_well</th>\n    </tr>\n  </thead>\n  <tbody>\n    <tr>\n      <th>52932</th>\n      <td>TAG40</td>\n      <td>PCR1</td>\n      <td>TAG40|PCR1</td>\n      <td>1</td>\n    </tr>\n    <tr>\n      <th>167414</th>\n      <td>TAG128</td>\n      <td>PCR1</td>\n      <td>TAG128|PCR1</td>\n      <td>1</td>\n    </tr>\n    <tr>\n      <th>448514</th>\n      <td>TAG344</td>\n      <td>PCR1</td>\n      <td>TAG344|PCR1</td>\n      <td>1</td>\n    </tr>\n    <tr>\n      <th>9838</th>\n      <td>TAG7</td>\n      <td>PCR1</td>\n      <td>TAG7|PCR1</td>\n      <td>1</td>\n    </tr>\n    <tr>\n      <th>393266</th>\n      <td>TAG302</td>\n      <td>PCR1</td>\n      <td>TAG302|PCR1</td>\n      <td>1</td>\n    </tr>\n    <tr>\n      <th>...</th>\n      <td>...</td>\n      <td>...</td>\n      <td>...</td>\n      <td>...</td>\n    </tr>\n    <tr>\n      <th>369040</th>\n      <td>TAG283</td>\n      <td>PCR383</td>\n      <td>TAG283|PCR383</td>\n      <td>383</td>\n    </tr>\n    <tr>\n      <th>25381</th>\n      <td>TAG19</td>\n      <td>PCR383</td>\n      <td>TAG19|PCR383</td>\n      <td>383</td>\n    </tr>\n    <tr>\n      <th>111023</th>\n      <td>TAG85</td>\n      <td>PCR383</td>\n      <td>TAG85|PCR383</td>\n      <td>383</td>\n    </tr>\n    <tr>\n      <th>68549</th>\n      <td>TAG52</td>\n      <td>PCR383</td>\n      <td>TAG52|PCR383</td>\n      <td>383</td>\n    </tr>\n    <tr>\n      <th>207930</th>\n      <td>TAG159</td>\n      <td>PCR383</td>\n      <td>TAG159|PCR383</td>\n      <td>383</td>\n    </tr>\n  </tbody>\n</table>\n<p>5826 rows × 4 columns</p>\n</div>"
     },
     "metadata": {},
     "execution_count": 11
    }
   ],
   "source": [
    "df"
   ]
  }
 ]
}