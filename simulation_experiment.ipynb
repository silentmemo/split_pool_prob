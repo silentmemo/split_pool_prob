{
 "metadata": {
  "language_info": {
   "codemirror_mode": {
    "name": "ipython",
    "version": 3
   },
   "file_extension": ".py",
   "mimetype": "text/x-python",
   "name": "python",
   "nbconvert_exporter": "python",
   "pygments_lexer": "ipython3",
   "version": "3.8.5"
  },
  "orig_nbformat": 2,
  "kernelspec": {
   "name": "python385jvsc74a57bd07e42dccc49e1207e8a3c533693ed15026faa9956dd3711922ea8d0c6b946ac24",
   "display_name": "Python 3.8.5 64-bit ('base': conda)"
  }
 },
 "nbformat": 4,
 "nbformat_minor": 2,
 "cells": [
  {
   "cell_type": "code",
   "execution_count": 1,
   "metadata": {},
   "outputs": [],
   "source": [
    "import random\n",
    "import matplotlib.pyplot as plt"
   ]
  },
  {
   "cell_type": "code",
   "execution_count": 2,
   "metadata": {},
   "outputs": [],
   "source": [
    "number_of_tag_barcode = 384\n",
    "number_of_pcr_index = 384\n",
    "input_cell_number = 19200\n",
    "sort_cell_number =20"
   ]
  },
  {
   "cell_type": "code",
   "execution_count": 3,
   "metadata": {},
   "outputs": [],
   "source": [
    "tag_barcode_name_list = []\n",
    "for i in range(number_of_tag_barcode):\n",
    "    tag_barcode_name_list.append(\"TAG\"+str(i))\n",
    "\n",
    "pcr_index_name_list = []\n",
    "for i in range(number_of_pcr_index):\n",
    "    pcr_index_name_list.append(\"PCR\"+str(i))\n"
   ]
  },
  {
   "cell_type": "code",
   "execution_count": 4,
   "metadata": {},
   "outputs": [],
   "source": [
    "###\n",
    "class cell:\n",
    "    def __init__(self, cellID):\n",
    "        self.cellID = cellID\n",
    "    def set_tag_barcode(self, tag_barcode):\n",
    "        self.tag_barcode = tag_barcode\n",
    "    def set_pcr_index(self,pcr_index):\n",
    "        self.pcr_index = pcr_index\n",
    "\n",
    "    def get_tag_barcode(self):\n",
    "        return self.tag_barcode\n",
    "    def get_pcr_index(self):\n",
    "        return self.pcr_index\n",
    "    def get_cell_info(self):\n",
    "        cell_info = self.tag_barcode + \"|\" + self.pcr_index\n",
    "        return cell_info\n",
    "        \n",
    "def select_randomly_from_list(inputList):\n",
    "    random_index = random.randrange(len(inputList))\n",
    "    return inputList[random_index]"
   ]
  },
  {
   "cell_type": "code",
   "execution_count": 5,
   "metadata": {
    "tags": []
   },
   "outputs": [],
   "source": [
    "### randomly add cell with tag_barcode\n",
    "cell_dict={}\n",
    "cellID_count =0\n",
    "for well in range(len(tag_barcode_name_list)):\n",
    "    this_well_dict = {}\n",
    "    for i in range(round(input_cell_number/len(tag_barcode_name_list))):\n",
    "        cellID_count = cellID_count+1\n",
    "        this_cell = cell(str(cellID_count))\n",
    "        chosen_tag_barcode = tag_barcode_name_list[well]\n",
    "        this_cell.set_tag_barcode(chosen_tag_barcode)\n",
    "        cell_dict[cellID_count] = this_cell\n",
    "# print(cell_dict)\n"
   ]
  },
  {
   "cell_type": "code",
   "execution_count": 6,
   "metadata": {
    "tags": []
   },
   "outputs": [],
   "source": [
    "### randomly sort a number of cell to one of the pcr_index well \n",
    "second_cell_dict = {}\n",
    "for well in range(len(pcr_index_name_list)):\n",
    "    ### pcr_index_name_list[idx] is selected, sort k number of cell into this well\n",
    "    ### randomly drawn form the cell_dict \n",
    "    this_well_dict = {}\n",
    "    for k in range(sort_cell_number):\n",
    "        idx = random.choice(list(cell_dict))\n",
    "        chosen_cell = cell_dict[idx]\n",
    "        cell_dict.pop(idx)\n",
    "        chosen_index =  pcr_index_name_list[well]\n",
    "        chosen_cell.set_pcr_index(chosen_index)\n",
    "        \n",
    "        ### build some info to work with downstream\n",
    "        cell_information = {\"tag_barcode\" : chosen_cell.get_tag_barcode(), \"pcr_index\" : chosen_cell.get_pcr_index(),\"barcode_index\" : chosen_cell.get_cell_info(),\"pcr_well\" : well }\n",
    "        this_well_dict[idx] = cell_information \n",
    "    second_cell_dict[well] = this_well_dict.copy()"
   ]
  },
  {
   "cell_type": "code",
   "execution_count": 7,
   "metadata": {
    "tags": [
     "outputPrepend"
    ]
   },
   "outputs": [
    {
     "output_type": "stream",
     "name": "stdout",
     "text": [
      "': 'TAG181|PCR377', 'pcr_well': 377}, 15954: {'tag_barcode': 'TAG319', 'pcr_index': 'PCR377', 'barcode_index': 'TAG319|PCR377', 'pcr_well': 377}, 7599: {'tag_barcode': 'TAG151', 'pcr_index': 'PCR377', 'barcode_index': 'TAG151|PCR377', 'pcr_well': 377}, 2321: {'tag_barcode': 'TAG46', 'pcr_index': 'PCR377', 'barcode_index': 'TAG46|PCR377', 'pcr_well': 377}, 5255: {'tag_barcode': 'TAG105', 'pcr_index': 'PCR377', 'barcode_index': 'TAG105|PCR377', 'pcr_well': 377}, 14713: {'tag_barcode': 'TAG294', 'pcr_index': 'PCR377', 'barcode_index': 'TAG294|PCR377', 'pcr_well': 377}, 12816: {'tag_barcode': 'TAG256', 'pcr_index': 'PCR377', 'barcode_index': 'TAG256|PCR377', 'pcr_well': 377}, 15328: {'tag_barcode': 'TAG306', 'pcr_index': 'PCR377', 'barcode_index': 'TAG306|PCR377', 'pcr_well': 377}, 14629: {'tag_barcode': 'TAG292', 'pcr_index': 'PCR378', 'barcode_index': 'TAG292|PCR378', 'pcr_well': 378}, 7784: {'tag_barcode': 'TAG155', 'pcr_index': 'PCR378', 'barcode_index': 'TAG155|PCR378', 'pcr_well': 378}, 14494: {'tag_barcode': 'TAG289', 'pcr_index': 'PCR378', 'barcode_index': 'TAG289|PCR378', 'pcr_well': 378}, 17684: {'tag_barcode': 'TAG353', 'pcr_index': 'PCR378', 'barcode_index': 'TAG353|PCR378', 'pcr_well': 378}, 14716: {'tag_barcode': 'TAG294', 'pcr_index': 'PCR378', 'barcode_index': 'TAG294|PCR378', 'pcr_well': 378}, 13880: {'tag_barcode': 'TAG277', 'pcr_index': 'PCR378', 'barcode_index': 'TAG277|PCR378', 'pcr_well': 378}, 12533: {'tag_barcode': 'TAG250', 'pcr_index': 'PCR378', 'barcode_index': 'TAG250|PCR378', 'pcr_well': 378}, 757: {'tag_barcode': 'TAG15', 'pcr_index': 'PCR378', 'barcode_index': 'TAG15|PCR378', 'pcr_well': 378}, 16871: {'tag_barcode': 'TAG337', 'pcr_index': 'PCR378', 'barcode_index': 'TAG337|PCR378', 'pcr_well': 378}, 1681: {'tag_barcode': 'TAG33', 'pcr_index': 'PCR378', 'barcode_index': 'TAG33|PCR378', 'pcr_well': 378}, 7239: {'tag_barcode': 'TAG144', 'pcr_index': 'PCR378', 'barcode_index': 'TAG144|PCR378', 'pcr_well': 378}, 14060: {'tag_barcode': 'TAG281', 'pcr_index': 'PCR378', 'barcode_index': 'TAG281|PCR378', 'pcr_well': 378}, 5902: {'tag_barcode': 'TAG118', 'pcr_index': 'PCR378', 'barcode_index': 'TAG118|PCR378', 'pcr_well': 378}, 10580: {'tag_barcode': 'TAG211', 'pcr_index': 'PCR378', 'barcode_index': 'TAG211|PCR378', 'pcr_well': 378}, 4299: {'tag_barcode': 'TAG85', 'pcr_index': 'PCR378', 'barcode_index': 'TAG85|PCR378', 'pcr_well': 378}, 579: {'tag_barcode': 'TAG11', 'pcr_index': 'PCR378', 'barcode_index': 'TAG11|PCR378', 'pcr_well': 378}, 11399: {'tag_barcode': 'TAG227', 'pcr_index': 'PCR378', 'barcode_index': 'TAG227|PCR378', 'pcr_well': 378}, 14747: {'tag_barcode': 'TAG294', 'pcr_index': 'PCR378', 'barcode_index': 'TAG294|PCR378', 'pcr_well': 378}, 3820: {'tag_barcode': 'TAG76', 'pcr_index': 'PCR378', 'barcode_index': 'TAG76|PCR378', 'pcr_well': 378}, 10723: {'tag_barcode': 'TAG214', 'pcr_index': 'PCR378', 'barcode_index': 'TAG214|PCR378', 'pcr_well': 378}, 18576: {'tag_barcode': 'TAG371', 'pcr_index': 'PCR378', 'barcode_index': 'TAG371|PCR378', 'pcr_well': 378}, 11587: {'tag_barcode': 'TAG231', 'pcr_index': 'PCR378', 'barcode_index': 'TAG231|PCR378', 'pcr_well': 378}, 8628: {'tag_barcode': 'TAG172', 'pcr_index': 'PCR378', 'barcode_index': 'TAG172|PCR378', 'pcr_well': 378}, 5688: {'tag_barcode': 'TAG113', 'pcr_index': 'PCR378', 'barcode_index': 'TAG113|PCR378', 'pcr_well': 378}, 10032: {'tag_barcode': 'TAG200', 'pcr_index': 'PCR378', 'barcode_index': 'TAG200|PCR378', 'pcr_well': 378}, 7184: {'tag_barcode': 'TAG143', 'pcr_index': 'PCR378', 'barcode_index': 'TAG143|PCR378', 'pcr_well': 378}, 17174: {'tag_barcode': 'TAG343', 'pcr_index': 'PCR378', 'barcode_index': 'TAG343|PCR378', 'pcr_well': 378}, 11941: {'tag_barcode': 'TAG238', 'pcr_index': 'PCR378', 'barcode_index': 'TAG238|PCR378', 'pcr_well': 378}, 5651: {'tag_barcode': 'TAG113', 'pcr_index': 'PCR378', 'barcode_index': 'TAG113|PCR378', 'pcr_well': 378}, 12424: {'tag_barcode': 'TAG248', 'pcr_index': 'PCR378', 'barcode_index': 'TAG248|PCR378', 'pcr_well': 378}, 14980: {'tag_barcode': 'TAG299', 'pcr_index': 'PCR379', 'barcode_index': 'TAG299|PCR379', 'pcr_well': 379}, 16984: {'tag_barcode': 'TAG339', 'pcr_index': 'PCR379', 'barcode_index': 'TAG339|PCR379', 'pcr_well': 379}, 564: {'tag_barcode': 'TAG11', 'pcr_index': 'PCR379', 'barcode_index': 'TAG11|PCR379', 'pcr_well': 379}, 2838: {'tag_barcode': 'TAG56', 'pcr_index': 'PCR379', 'barcode_index': 'TAG56|PCR379', 'pcr_well': 379}, 3058: {'tag_barcode': 'TAG61', 'pcr_index': 'PCR379', 'barcode_index': 'TAG61|PCR379', 'pcr_well': 379}, 5078: {'tag_barcode': 'TAG101', 'pcr_index': 'PCR379', 'barcode_index': 'TAG101|PCR379', 'pcr_well': 379}, 402: {'tag_barcode': 'TAG8', 'pcr_index': 'PCR379', 'barcode_index': 'TAG8|PCR379', 'pcr_well': 379}, 9054: {'tag_barcode': 'TAG181', 'pcr_index': 'PCR379', 'barcode_index': 'TAG181|PCR379', 'pcr_well': 379}, 519: {'tag_barcode': 'TAG10', 'pcr_index': 'PCR379', 'barcode_index': 'TAG10|PCR379', 'pcr_well': 379}, 9787: {'tag_barcode': 'TAG195', 'pcr_index': 'PCR379', 'barcode_index': 'TAG195|PCR379', 'pcr_well': 379}, 14031: {'tag_barcode': 'TAG280', 'pcr_index': 'PCR379', 'barcode_index': 'TAG280|PCR379', 'pcr_well': 379}, 4432: {'tag_barcode': 'TAG88', 'pcr_index': 'PCR379', 'barcode_index': 'TAG88|PCR379', 'pcr_well': 379}, 5223: {'tag_barcode': 'TAG104', 'pcr_index': 'PCR379', 'barcode_index': 'TAG104|PCR379', 'pcr_well': 379}, 4926: {'tag_barcode': 'TAG98', 'pcr_index': 'PCR379', 'barcode_index': 'TAG98|PCR379', 'pcr_well': 379}, 17736: {'tag_barcode': 'TAG354', 'pcr_index': 'PCR379', 'barcode_index': 'TAG354|PCR379', 'pcr_well': 379}, 15997: {'tag_barcode': 'TAG319', 'pcr_index': 'PCR379', 'barcode_index': 'TAG319|PCR379', 'pcr_well': 379}, 16472: {'tag_barcode': 'TAG329', 'pcr_index': 'PCR379', 'barcode_index': 'TAG329|PCR379', 'pcr_well': 379}, 5643: {'tag_barcode': 'TAG112', 'pcr_index': 'PCR379', 'barcode_index': 'TAG112|PCR379', 'pcr_well': 379}, 3250: {'tag_barcode': 'TAG64', 'pcr_index': 'PCR379', 'barcode_index': 'TAG64|PCR379', 'pcr_well': 379}, 5137: {'tag_barcode': 'TAG102', 'pcr_index': 'PCR379', 'barcode_index': 'TAG102|PCR379', 'pcr_well': 379}, 15180: {'tag_barcode': 'TAG303', 'pcr_index': 'PCR379', 'barcode_index': 'TAG303|PCR379', 'pcr_well': 379}, 3473: {'tag_barcode': 'TAG69', 'pcr_index': 'PCR379', 'barcode_index': 'TAG69|PCR379', 'pcr_well': 379}, 1232: {'tag_barcode': 'TAG24', 'pcr_index': 'PCR379', 'barcode_index': 'TAG24|PCR379', 'pcr_well': 379}, 17052: {'tag_barcode': 'TAG341', 'pcr_index': 'PCR379', 'barcode_index': 'TAG341|PCR379', 'pcr_well': 379}, 9669: {'tag_barcode': 'TAG193', 'pcr_index': 'PCR379', 'barcode_index': 'TAG193|PCR379', 'pcr_well': 379}, 452: {'tag_barcode': 'TAG9', 'pcr_index': 'PCR379', 'barcode_index': 'TAG9|PCR379', 'pcr_well': 379}, 2133: {'tag_barcode': 'TAG42', 'pcr_index': 'PCR379', 'barcode_index': 'TAG42|PCR379', 'pcr_well': 379}, 3852: {'tag_barcode': 'TAG77', 'pcr_index': 'PCR379', 'barcode_index': 'TAG77|PCR379', 'pcr_well': 379}, 16141: {'tag_barcode': 'TAG322', 'pcr_index': 'PCR379', 'barcode_index': 'TAG322|PCR379', 'pcr_well': 379}, 13214: {'tag_barcode': 'TAG264', 'pcr_index': 'PCR379', 'barcode_index': 'TAG264|PCR379', 'pcr_well': 379}, 4155: {'tag_barcode': 'TAG83', 'pcr_index': 'PCR380', 'barcode_index': 'TAG83|PCR380', 'pcr_well': 380}, 6572: {'tag_barcode': 'TAG131', 'pcr_index': 'PCR380', 'barcode_index': 'TAG131|PCR380', 'pcr_well': 380}, 14223: {'tag_barcode': 'TAG284', 'pcr_index': 'PCR380', 'barcode_index': 'TAG284|PCR380', 'pcr_well': 380}, 10411: {'tag_barcode': 'TAG208', 'pcr_index': 'PCR380', 'barcode_index': 'TAG208|PCR380', 'pcr_well': 380}, 7375: {'tag_barcode': 'TAG147', 'pcr_index': 'PCR380', 'barcode_index': 'TAG147|PCR380', 'pcr_well': 380}, 17373: {'tag_barcode': 'TAG347', 'pcr_index': 'PCR380', 'barcode_index': 'TAG347|PCR380', 'pcr_well': 380}, 4821: {'tag_barcode': 'TAG96', 'pcr_index': 'PCR380', 'barcode_index': 'TAG96|PCR380', 'pcr_well': 380}, 18321: {'tag_barcode': 'TAG366', 'pcr_index': 'PCR380', 'barcode_index': 'TAG366|PCR380', 'pcr_well': 380}, 16570: {'tag_barcode': 'TAG331', 'pcr_index': 'PCR380', 'barcode_index': 'TAG331|PCR380', 'pcr_well': 380}, 1788: {'tag_barcode': 'TAG35', 'pcr_index': 'PCR380', 'barcode_index': 'TAG35|PCR380', 'pcr_well': 380}, 10799: {'tag_barcode': 'TAG215', 'pcr_index': 'PCR380', 'barcode_index': 'TAG215|PCR380', 'pcr_well': 380}, 6079: {'tag_barcode': 'TAG121', 'pcr_index': 'PCR380', 'barcode_index': 'TAG121|PCR380', 'pcr_well': 380}, 4736: {'tag_barcode': 'TAG94', 'pcr_index': 'PCR380', 'barcode_index': 'TAG94|PCR380', 'pcr_well': 380}, 15923: {'tag_barcode': 'TAG318', 'pcr_index': 'PCR380', 'barcode_index': 'TAG318|PCR380', 'pcr_well': 380}, 285: {'tag_barcode': 'TAG5', 'pcr_index': 'PCR380', 'barcode_index': 'TAG5|PCR380', 'pcr_well': 380}, 16806: {'tag_barcode': 'TAG336', 'pcr_index': 'PCR380', 'barcode_index': 'TAG336|PCR380', 'pcr_well': 380}, 15818: {'tag_barcode': 'TAG316', 'pcr_index': 'PCR380', 'barcode_index': 'TAG316|PCR380', 'pcr_well': 380}, 7663: {'tag_barcode': 'TAG153', 'pcr_index': 'PCR380', 'barcode_index': 'TAG153|PCR380', 'pcr_well': 380}, 4228: {'tag_barcode': 'TAG84', 'pcr_index': 'PCR380', 'barcode_index': 'TAG84|PCR380', 'pcr_well': 380}, 2636: {'tag_barcode': 'TAG52', 'pcr_index': 'PCR380', 'barcode_index': 'TAG52|PCR380', 'pcr_well': 380}, 14979: {'tag_barcode': 'TAG299', 'pcr_index': 'PCR380', 'barcode_index': 'TAG299|PCR380', 'pcr_well': 380}, 16109: {'tag_barcode': 'TAG322', 'pcr_index': 'PCR380', 'barcode_index': 'TAG322|PCR380', 'pcr_well': 380}, 38: {'tag_barcode': 'TAG0', 'pcr_index': 'PCR380', 'barcode_index': 'TAG0|PCR380', 'pcr_well': 380}, 11740: {'tag_barcode': 'TAG234', 'pcr_index': 'PCR380', 'barcode_index': 'TAG234|PCR380', 'pcr_well': 380}, 139: {'tag_barcode': 'TAG2', 'pcr_index': 'PCR380', 'barcode_index': 'TAG2|PCR380', 'pcr_well': 380}, 10027: {'tag_barcode': 'TAG200', 'pcr_index': 'PCR380', 'barcode_index': 'TAG200|PCR380', 'pcr_well': 380}, 1456: {'tag_barcode': 'TAG29', 'pcr_index': 'PCR380', 'barcode_index': 'TAG29|PCR380', 'pcr_well': 380}, 6660: {'tag_barcode': 'TAG133', 'pcr_index': 'PCR380', 'barcode_index': 'TAG133|PCR380', 'pcr_well': 380}, 6375: {'tag_barcode': 'TAG127', 'pcr_index': 'PCR380', 'barcode_index': 'TAG127|PCR380', 'pcr_well': 380}, 16994: {'tag_barcode': 'TAG339', 'pcr_index': 'PCR380', 'barcode_index': 'TAG339|PCR380', 'pcr_well': 380}, 8993: {'tag_barcode': 'TAG179', 'pcr_index': 'PCR381', 'barcode_index': 'TAG179|PCR381', 'pcr_well': 381}, 1034: {'tag_barcode': 'TAG20', 'pcr_index': 'PCR381', 'barcode_index': 'TAG20|PCR381', 'pcr_well': 381}, 18347: {'tag_barcode': 'TAG366', 'pcr_index': 'PCR381', 'barcode_index': 'TAG366|PCR381', 'pcr_well': 381}, 7523: {'tag_barcode': 'TAG150', 'pcr_index': 'PCR381', 'barcode_index': 'TAG150|PCR381', 'pcr_well': 381}, 3463: {'tag_barcode': 'TAG69', 'pcr_index': 'PCR381', 'barcode_index': 'TAG69|PCR381', 'pcr_well': 381}, 3812: {'tag_barcode': 'TAG76', 'pcr_index': 'PCR381', 'barcode_index': 'TAG76|PCR381', 'pcr_well': 381}, 8810: {'tag_barcode': 'TAG176', 'pcr_index': 'PCR381', 'barcode_index': 'TAG176|PCR381', 'pcr_well': 381}, 4519: {'tag_barcode': 'TAG90', 'pcr_index': 'PCR381', 'barcode_index': 'TAG90|PCR381', 'pcr_well': 381}, 11879: {'tag_barcode': 'TAG237', 'pcr_index': 'PCR381', 'barcode_index': 'TAG237|PCR381', 'pcr_well': 381}, 4060: {'tag_barcode': 'TAG81', 'pcr_index': 'PCR381', 'barcode_index': 'TAG81|PCR381', 'pcr_well': 381}, 3667: {'tag_barcode': 'TAG73', 'pcr_index': 'PCR381', 'barcode_index': 'TAG73|PCR381', 'pcr_well': 381}, 15103: {'tag_barcode': 'TAG302', 'pcr_index': 'PCR381', 'barcode_index': 'TAG302|PCR381', 'pcr_well': 381}, 5185: {'tag_barcode': 'TAG103', 'pcr_index': 'PCR381', 'barcode_index': 'TAG103|PCR381', 'pcr_well': 381}, 6408: {'tag_barcode': 'TAG128', 'pcr_index': 'PCR381', 'barcode_index': 'TAG128|PCR381', 'pcr_well': 381}, 5236: {'tag_barcode': 'TAG104', 'pcr_index': 'PCR381', 'barcode_index': 'TAG104|PCR381', 'pcr_well': 381}, 11599: {'tag_barcode': 'TAG231', 'pcr_index': 'PCR381', 'barcode_index': 'TAG231|PCR381', 'pcr_well': 381}, 738: {'tag_barcode': 'TAG14', 'pcr_index': 'PCR381', 'barcode_index': 'TAG14|PCR381', 'pcr_well': 381}, 16072: {'tag_barcode': 'TAG321', 'pcr_index': 'PCR381', 'barcode_index': 'TAG321|PCR381', 'pcr_well': 381}, 16051: {'tag_barcode': 'TAG321', 'pcr_index': 'PCR381', 'barcode_index': 'TAG321|PCR381', 'pcr_well': 381}, 3172: {'tag_barcode': 'TAG63', 'pcr_index': 'PCR381', 'barcode_index': 'TAG63|PCR381', 'pcr_well': 381}, 12202: {'tag_barcode': 'TAG244', 'pcr_index': 'PCR381', 'barcode_index': 'TAG244|PCR381', 'pcr_well': 381}, 13956: {'tag_barcode': 'TAG279', 'pcr_index': 'PCR381', 'barcode_index': 'TAG279|PCR381', 'pcr_well': 381}, 17445: {'tag_barcode': 'TAG348', 'pcr_index': 'PCR381', 'barcode_index': 'TAG348|PCR381', 'pcr_well': 381}, 9540: {'tag_barcode': 'TAG190', 'pcr_index': 'PCR381', 'barcode_index': 'TAG190|PCR381', 'pcr_well': 381}, 13684: {'tag_barcode': 'TAG273', 'pcr_index': 'PCR381', 'barcode_index': 'TAG273|PCR381', 'pcr_well': 381}, 14259: {'tag_barcode': 'TAG285', 'pcr_index': 'PCR381', 'barcode_index': 'TAG285|PCR381', 'pcr_well': 381}, 5311: {'tag_barcode': 'TAG106', 'pcr_index': 'PCR381', 'barcode_index': 'TAG106|PCR381', 'pcr_well': 381}, 12248: {'tag_barcode': 'TAG244', 'pcr_index': 'PCR381', 'barcode_index': 'TAG244|PCR381', 'pcr_well': 381}, 1836: {'tag_barcode': 'TAG36', 'pcr_index': 'PCR381', 'barcode_index': 'TAG36|PCR381', 'pcr_well': 381}, 8955: {'tag_barcode': 'TAG179', 'pcr_index': 'PCR381', 'barcode_index': 'TAG179|PCR381', 'pcr_well': 381}, 12150: {'tag_barcode': 'TAG242', 'pcr_index': 'PCR382', 'barcode_index': 'TAG242|PCR382', 'pcr_well': 382}, 5966: {'tag_barcode': 'TAG119', 'pcr_index': 'PCR382', 'barcode_index': 'TAG119|PCR382', 'pcr_well': 382}, 8934: {'tag_barcode': 'TAG178', 'pcr_index': 'PCR382', 'barcode_index': 'TAG178|PCR382', 'pcr_well': 382}, 13905: {'tag_barcode': 'TAG278', 'pcr_index': 'PCR382', 'barcode_index': 'TAG278|PCR382', 'pcr_well': 382}, 4338: {'tag_barcode': 'TAG86', 'pcr_index': 'PCR382', 'barcode_index': 'TAG86|PCR382', 'pcr_well': 382}, 15510: {'tag_barcode': 'TAG310', 'pcr_index': 'PCR382', 'barcode_index': 'TAG310|PCR382', 'pcr_well': 382}, 11184: {'tag_barcode': 'TAG223', 'pcr_index': 'PCR382', 'barcode_index': 'TAG223|PCR382', 'pcr_well': 382}, 17332: {'tag_barcode': 'TAG346', 'pcr_index': 'PCR382', 'barcode_index': 'TAG346|PCR382', 'pcr_well': 382}, 4196: {'tag_barcode': 'TAG83', 'pcr_index': 'PCR382', 'barcode_index': 'TAG83|PCR382', 'pcr_well': 382}, 13386: {'tag_barcode': 'TAG267', 'pcr_index': 'PCR382', 'barcode_index': 'TAG267|PCR382', 'pcr_well': 382}, 4815: {'tag_barcode': 'TAG96', 'pcr_index': 'PCR382', 'barcode_index': 'TAG96|PCR382', 'pcr_well': 382}, 15000: {'tag_barcode': 'TAG299', 'pcr_index': 'PCR382', 'barcode_index': 'TAG299|PCR382', 'pcr_well': 382}, 8096: {'tag_barcode': 'TAG161', 'pcr_index': 'PCR382', 'barcode_index': 'TAG161|PCR382', 'pcr_well': 382}, 2694: {'tag_barcode': 'TAG53', 'pcr_index': 'PCR382', 'barcode_index': 'TAG53|PCR382', 'pcr_well': 382}, 10058: {'tag_barcode': 'TAG201', 'pcr_index': 'PCR382', 'barcode_index': 'TAG201|PCR382', 'pcr_well': 382}, 15044: {'tag_barcode': 'TAG300', 'pcr_index': 'PCR382', 'barcode_index': 'TAG300|PCR382', 'pcr_well': 382}, 3895: {'tag_barcode': 'TAG77', 'pcr_index': 'PCR382', 'barcode_index': 'TAG77|PCR382', 'pcr_well': 382}, 14512: {'tag_barcode': 'TAG290', 'pcr_index': 'PCR382', 'barcode_index': 'TAG290|PCR382', 'pcr_well': 382}, 15394: {'tag_barcode': 'TAG307', 'pcr_index': 'PCR382', 'barcode_index': 'TAG307|PCR382', 'pcr_well': 382}, 633: {'tag_barcode': 'TAG12', 'pcr_index': 'PCR382', 'barcode_index': 'TAG12|PCR382', 'pcr_well': 382}, 8919: {'tag_barcode': 'TAG178', 'pcr_index': 'PCR382', 'barcode_index': 'TAG178|PCR382', 'pcr_well': 382}, 10617: {'tag_barcode': 'TAG212', 'pcr_index': 'PCR382', 'barcode_index': 'TAG212|PCR382', 'pcr_well': 382}, 6398: {'tag_barcode': 'TAG127', 'pcr_index': 'PCR382', 'barcode_index': 'TAG127|PCR382', 'pcr_well': 382}, 1039: {'tag_barcode': 'TAG20', 'pcr_index': 'PCR382', 'barcode_index': 'TAG20|PCR382', 'pcr_well': 382}, 18428: {'tag_barcode': 'TAG368', 'pcr_index': 'PCR382', 'barcode_index': 'TAG368|PCR382', 'pcr_well': 382}, 13157: {'tag_barcode': 'TAG263', 'pcr_index': 'PCR382', 'barcode_index': 'TAG263|PCR382', 'pcr_well': 382}, 16340: {'tag_barcode': 'TAG326', 'pcr_index': 'PCR382', 'barcode_index': 'TAG326|PCR382', 'pcr_well': 382}, 2044: {'tag_barcode': 'TAG40', 'pcr_index': 'PCR382', 'barcode_index': 'TAG40|PCR382', 'pcr_well': 382}, 7977: {'tag_barcode': 'TAG159', 'pcr_index': 'PCR382', 'barcode_index': 'TAG159|PCR382', 'pcr_well': 382}, 12842: {'tag_barcode': 'TAG256', 'pcr_index': 'PCR382', 'barcode_index': 'TAG256|PCR382', 'pcr_well': 382}, 8166: {'tag_barcode': 'TAG163', 'pcr_index': 'PCR383', 'barcode_index': 'TAG163|PCR383', 'pcr_well': 383}, 6091: {'tag_barcode': 'TAG121', 'pcr_index': 'PCR383', 'barcode_index': 'TAG121|PCR383', 'pcr_well': 383}, 15468: {'tag_barcode': 'TAG309', 'pcr_index': 'PCR383', 'barcode_index': 'TAG309|PCR383', 'pcr_well': 383}, 217: {'tag_barcode': 'TAG4', 'pcr_index': 'PCR383', 'barcode_index': 'TAG4|PCR383', 'pcr_well': 383}, 978: {'tag_barcode': 'TAG19', 'pcr_index': 'PCR383', 'barcode_index': 'TAG19|PCR383', 'pcr_well': 383}, 16289: {'tag_barcode': 'TAG325', 'pcr_index': 'PCR383', 'barcode_index': 'TAG325|PCR383', 'pcr_well': 383}, 2326: {'tag_barcode': 'TAG46', 'pcr_index': 'PCR383', 'barcode_index': 'TAG46|PCR383', 'pcr_well': 383}, 7345: {'tag_barcode': 'TAG146', 'pcr_index': 'PCR383', 'barcode_index': 'TAG146|PCR383', 'pcr_well': 383}, 9035: {'tag_barcode': 'TAG180', 'pcr_index': 'PCR383', 'barcode_index': 'TAG180|PCR383', 'pcr_well': 383}, 12830: {'tag_barcode': 'TAG256', 'pcr_index': 'PCR383', 'barcode_index': 'TAG256|PCR383', 'pcr_well': 383}, 14799: {'tag_barcode': 'TAG295', 'pcr_index': 'PCR383', 'barcode_index': 'TAG295|PCR383', 'pcr_well': 383}, 16012: {'tag_barcode': 'TAG320', 'pcr_index': 'PCR383', 'barcode_index': 'TAG320|PCR383', 'pcr_well': 383}, 18430: {'tag_barcode': 'TAG368', 'pcr_index': 'PCR383', 'barcode_index': 'TAG368|PCR383', 'pcr_well': 383}, 4934: {'tag_barcode': 'TAG98', 'pcr_index': 'PCR383', 'barcode_index': 'TAG98|PCR383', 'pcr_well': 383}, 3938: {'tag_barcode': 'TAG78', 'pcr_index': 'PCR383', 'barcode_index': 'TAG78|PCR383', 'pcr_well': 383}, 17749: {'tag_barcode': 'TAG354', 'pcr_index': 'PCR383', 'barcode_index': 'TAG354|PCR383', 'pcr_well': 383}, 5047: {'tag_barcode': 'TAG100', 'pcr_index': 'PCR383', 'barcode_index': 'TAG100|PCR383', 'pcr_well': 383}, 5050: {'tag_barcode': 'TAG100', 'pcr_index': 'PCR383', 'barcode_index': 'TAG100|PCR383', 'pcr_well': 383}, 4762: {'tag_barcode': 'TAG95', 'pcr_index': 'PCR383', 'barcode_index': 'TAG95|PCR383', 'pcr_well': 383}, 1106: {'tag_barcode': 'TAG22', 'pcr_index': 'PCR383', 'barcode_index': 'TAG22|PCR383', 'pcr_well': 383}, 9037: {'tag_barcode': 'TAG180', 'pcr_index': 'PCR383', 'barcode_index': 'TAG180|PCR383', 'pcr_well': 383}, 11738: {'tag_barcode': 'TAG234', 'pcr_index': 'PCR383', 'barcode_index': 'TAG234|PCR383', 'pcr_well': 383}, 14928: {'tag_barcode': 'TAG298', 'pcr_index': 'PCR383', 'barcode_index': 'TAG298|PCR383', 'pcr_well': 383}, 11178: {'tag_barcode': 'TAG223', 'pcr_index': 'PCR383', 'barcode_index': 'TAG223|PCR383', 'pcr_well': 383}, 5143: {'tag_barcode': 'TAG102', 'pcr_index': 'PCR383', 'barcode_index': 'TAG102|PCR383', 'pcr_well': 383}, 2922: {'tag_barcode': 'TAG58', 'pcr_index': 'PCR383', 'barcode_index': 'TAG58|PCR383', 'pcr_well': 383}, 18514: {'tag_barcode': 'TAG370', 'pcr_index': 'PCR383', 'barcode_index': 'TAG370|PCR383', 'pcr_well': 383}, 12551: {'tag_barcode': 'TAG251', 'pcr_index': 'PCR383', 'barcode_index': 'TAG251|PCR383', 'pcr_well': 383}, 9444: {'tag_barcode': 'TAG188', 'pcr_index': 'PCR383', 'barcode_index': 'TAG188|PCR383', 'pcr_well': 383}, 10886: {'tag_barcode': 'TAG217', 'pcr_index': 'PCR383', 'barcode_index': 'TAG217|PCR383', 'pcr_well': 383}}\n"
     ]
    }
   ],
   "source": [
    "pooled_cell_dict ={} ### pooled final dict\n",
    "for well in second_cell_dict:\n",
    "    cell_in_well_dict = second_cell_dict[well]\n",
    "    for cell in cell_in_well_dict:\n",
    "        # print(type(cell_in_well_dict[cell]))\n",
    "        pooled_cell_dict[cell] = cell_in_well_dict[cell].copy()\n",
    "print(pooled_cell_dict)"
   ]
  },
  {
   "cell_type": "code",
   "execution_count": 8,
   "metadata": {},
   "outputs": [
    {
     "output_type": "stream",
     "name": "stdout",
     "text": [
      "0.07170138888888888\n"
     ]
    }
   ],
   "source": [
    "### calculate simulation collition rate\n",
    "import pandas as pd\n",
    "df = pd.DataFrame.from_dict(pooled_cell_dict,    orient=\"index\")\n",
    "frequency_of_each_combination = df[\"barcode_index\"].value_counts()\n",
    "collision_count = 0\n",
    "unique_count =0\n",
    "for item in frequency_of_each_combination:\n",
    "    if item != 1:\n",
    "        collision_count = collision_count + item\n",
    "    else: \n",
    "        unique_count = unique_count + item\n",
    "### collision rate as a fraction of total \n",
    "collision_rate =  collision_count / (collision_count + unique_count)\n",
    "print(collision_rate)"
   ]
  },
  {
   "cell_type": "code",
   "execution_count": 9,
   "metadata": {},
   "outputs": [
    {
     "output_type": "stream",
     "name": "stdout",
     "text": [
      "      tag_barcode pcr_index  barcode_index  pcr_well\n3111        TAG62      PCR0     TAG62|PCR0         0\n4475        TAG89      PCR0     TAG89|PCR0         0\n13539      TAG270      PCR0    TAG270|PCR0         0\n747         TAG14      PCR0     TAG14|PCR0         0\n872         TAG17      PCR0     TAG17|PCR0         0\n...           ...       ...            ...       ...\n2922        TAG58    PCR383   TAG58|PCR383       383\n18514      TAG370    PCR383  TAG370|PCR383       383\n12551      TAG251    PCR383  TAG251|PCR383       383\n9444       TAG188    PCR383  TAG188|PCR383       383\n10886      TAG217    PCR383  TAG217|PCR383       383\n\n[11520 rows x 4 columns]\n"
     ]
    }
   ],
   "source": [
    "print(df)"
   ]
  },
  {
   "cell_type": "code",
   "execution_count": null,
   "metadata": {},
   "outputs": [],
   "source": []
  }
 ]
}