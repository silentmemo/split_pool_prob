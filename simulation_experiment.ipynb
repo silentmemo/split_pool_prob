{
 "metadata": {
  "language_info": {
   "codemirror_mode": {
    "name": "ipython",
    "version": 3
   },
   "file_extension": ".py",
   "mimetype": "text/x-python",
   "name": "python",
   "nbconvert_exporter": "python",
   "pygments_lexer": "ipython3",
   "version": "3.8.5"
  },
  "orig_nbformat": 2,
  "kernelspec": {
   "name": "python385jvsc74a57bd07e42dccc49e1207e8a3c533693ed15026faa9956dd3711922ea8d0c6b946ac24",
   "display_name": "Python 3.8.5 64-bit ('base': conda)"
  }
 },
 "nbformat": 4,
 "nbformat_minor": 2,
 "cells": [
  {
   "cell_type": "code",
   "execution_count": 1,
   "metadata": {},
   "outputs": [],
   "source": [
    "import random\n",
    "import matplotlib.pyplot as plt"
   ]
  },
  {
   "cell_type": "code",
   "execution_count": 2,
   "metadata": {},
   "outputs": [],
   "source": [
    "number_of_tag_barcode = 384\n",
    "number_of_pcr_index = 384\n",
    "input_cell_number = 20000\n",
    "sort_cell_number = 1"
   ]
  },
  {
   "cell_type": "code",
   "execution_count": 3,
   "metadata": {},
   "outputs": [],
   "source": [
    "tag_barcode_name_list = []\n",
    "for i in range(number_of_tag_barcode):\n",
    "    tag_barcode_name_list.append(\"TAG\"+str(i))\n",
    "\n",
    "pcr_index_name_list = []\n",
    "for i in range(number_of_pcr_index):\n",
    "    pcr_index_name_list.append(\"PCR\"+str(i))\n"
   ]
  },
  {
   "cell_type": "code",
   "execution_count": 4,
   "metadata": {},
   "outputs": [],
   "source": [
    "###\n",
    "class cell:\n",
    "    def __init__(self, cellID):\n",
    "        self.cellID = cellID\n",
    "    def set_tag_barcode(self, tag_barcode):\n",
    "        self.tag_barcode = tag_barcode\n",
    "    def set_pcr_index(self,pcr_index):\n",
    "        self.pcr_index = pcr_index\n",
    "\n",
    "    def get_tag_barcode(self):\n",
    "        return self.tag_barcode\n",
    "    def get_pcr_index(self):\n",
    "        return self.pcr_index\n",
    "    def get_cell_info(self):\n",
    "        cell_info = self.tag_barcode + \"|\" + self.pcr_index\n",
    "        return cell_info\n",
    "        \n",
    "def select_randomly_from_list(inputList):\n",
    "    random_index = random.randrange(len(inputList))\n",
    "    return inputList[random_index]"
   ]
  },
  {
   "cell_type": "code",
   "execution_count": 5,
   "metadata": {
    "tags": []
   },
   "outputs": [],
   "source": [
    "### randomly add cell with tag_barcode\n",
    "cell_dict={}\n",
    "cellID_count =0\n",
    "for well in range(len(tag_barcode_name_list)):\n",
    "    this_well_dict = {}\n",
    "    for i in range(round(input_cell_number/len(tag_barcode_name_list))):\n",
    "        cellID_count = cellID_count+1\n",
    "        this_cell = cell(str(cellID_count))\n",
    "        chosen_tag_barcode = tag_barcode_name_list[well]\n",
    "        this_cell.set_tag_barcode(chosen_tag_barcode)\n",
    "        cell_dict[cellID_count] = this_cell\n",
    "# print(cell_dict)\n"
   ]
  },
  {
   "cell_type": "code",
   "execution_count": 6,
   "metadata": {
    "tags": []
   },
   "outputs": [],
   "source": [
    "### randomly sort a number of cell to one of the pcr_index well \n",
    "second_cell_dict = {}\n",
    "for well in range(len(pcr_index_name_list)):\n",
    "    ### pcr_index_name_list[idx] is selected, sort k number of cell into this well\n",
    "    ### randomly drawn form the cell_dict \n",
    "    this_well_dict = {}\n",
    "    for k in range(sort_cell_number):\n",
    "        idx = random.choice(list(cell_dict))\n",
    "        chosen_cell = cell_dict[idx]\n",
    "        cell_dict.pop(idx)\n",
    "        chosen_index =  pcr_index_name_list[well]\n",
    "        chosen_cell.set_pcr_index(chosen_index)\n",
    "        \n",
    "        ### build some info to work with downstream\n",
    "        cell_information = {\"tag_barcode\" : chosen_cell.get_tag_barcode(), \"pcr_index\" : chosen_cell.get_pcr_index(),\"barcode_index\" : chosen_cell.get_cell_info(),\"pcr_well\" : well }\n",
    "        this_well_dict[idx] = cell_information \n",
    "    second_cell_dict[well] = this_well_dict.copy()"
   ]
  },
  {
   "cell_type": "code",
   "execution_count": 7,
   "metadata": {
    "tags": []
   },
   "outputs": [],
   "source": [
    "pooled_cell_dict ={} ### pooled final dict\n",
    "for well in second_cell_dict:\n",
    "    cell_in_well_dict = second_cell_dict[well]\n",
    "    for cell in cell_in_well_dict:\n",
    "        # print(type(cell_in_well_dict[cell]))\n",
    "        pooled_cell_dict[cell] = cell_in_well_dict[cell].copy()"
   ]
  },
  {
   "cell_type": "code",
   "execution_count": 8,
   "metadata": {},
   "outputs": [],
   "source": [
    "### calculate simulation collition rate\n",
    "import pandas as pd\n",
    "df = pd.DataFrame.from_dict(pooled_cell_dict,    orient=\"index\")\n",
    "frequency_of_each_combination = df[\"barcode_index\"].value_counts()\n",
    "collision_count = 0\n",
    "unique_count =0\n",
    "for item in frequency_of_each_combination:\n",
    "    if item != 1:\n",
    "        collision_count = collision_count + item\n",
    "    else: \n",
    "        unique_count = unique_count + item\n",
    "### collision rate as a fraction of total \n",
    "collision_rate =  collision_count / (collision_count + unique_count)\n"
   ]
  },
  {
   "cell_type": "code",
   "execution_count": 9,
   "metadata": {},
   "outputs": [],
   "source": [
    "# print(df)\n",
    "# print(collision_rate)\n",
    "total_nuclei = len(df)\n",
    "recovered_barcode = len(frequency_of_each_combination)\n",
    "cluster_per_nucleus = round(400000000/recovered_barcode)\n",
    "# print(recovered_barcode)"
   ]
  },
  {
   "cell_type": "code",
   "execution_count": null,
   "metadata": {},
   "outputs": [],
   "source": []
  }
 ]
}