{
 "metadata": {
  "language_info": {
   "codemirror_mode": {
    "name": "ipython",
    "version": 3
   },
   "file_extension": ".py",
   "mimetype": "text/x-python",
   "name": "python",
   "nbconvert_exporter": "python",
   "pygments_lexer": "ipython3",
   "version": "3.7.4"
  },
  "orig_nbformat": 2,
  "kernelspec": {
   "name": "python374jvsc74a57bd0eb59376e83bd23730328a1a48b4c7d1e187823ee41caff7c9a129f90a837e5f2",
   "display_name": "Python 3.7.4 64-bit (conda)"
  }
 },
 "nbformat": 4,
 "nbformat_minor": 2,
 "cells": [
  {
   "cell_type": "code",
   "execution_count": 1,
   "metadata": {},
   "outputs": [],
   "source": [
    "import random\n"
   ]
  },
  {
   "cell_type": "code",
   "execution_count": 2,
   "metadata": {},
   "outputs": [],
   "source": [
    "number_of_tag_barcode = 96\n",
    "number_of_pcr_index = 96\n",
    "input_cell_number = 9600\n",
    "sort_cell_number = 9600"
   ]
  },
  {
   "cell_type": "code",
   "execution_count": 3,
   "metadata": {},
   "outputs": [],
   "source": [
    "tag_barcode_name_list = []\n",
    "for i in range(number_of_tag_barcode):\n",
    "    tag_barcode_name_list.append(\"TAG\"+str(i))\n",
    "\n",
    "pcr_index_name_list = []\n",
    "for i in range(number_of_pcr_index):\n",
    "    pcr_index_name_list.append(\"PCR\"+str(i))\n"
   ]
  },
  {
   "cell_type": "code",
   "execution_count": 4,
   "metadata": {},
   "outputs": [],
   "source": [
    "###\n",
    "class cell:\n",
    "    def __init__(self, cellID):\n",
    "        self.cellID = cellID\n",
    "    def set_tag_barcode(self, tag_barcode):\n",
    "        self.tag_barcode = tag_barcode\n",
    "    def set_pcr_index(self,pcr_index):\n",
    "        self.pcr_index = pcr_index\n",
    "\n",
    "    def get_tag_barcode(self):\n",
    "        return self.tag_barcode\n",
    "    def get_pcr_index(self):\n",
    "        return self.pcr_index\n",
    "    def get_cell_info(self):\n",
    "        cell_info = self.tag_barcode + \"|\" + self.pcr_index\n",
    "        return cell_info\n",
    "        \n",
    "def select_randomly_from_list(inputList):\n",
    "    random_index = random.randrange(len(inputList))\n",
    "    return inputList[random_index]"
   ]
  },
  {
   "cell_type": "code",
   "execution_count": 5,
   "metadata": {
    "tags": []
   },
   "outputs": [],
   "source": [
    "### randomly add cell with tag_barcode\n",
    "cell_dict={}\n",
    "for i in range(input_cell_number):\n",
    "    this_cell = cell(i)\n",
    "    chosen_tag_barcode = select_randomly_from_list(tag_barcode_name_list)\n",
    "    this_cell.set_tag_barcode(chosen_tag_barcode)\n",
    "    cell_dict[i] = this_cell\n",
    "# print(cell_dict)\n"
   ]
  },
  {
   "cell_type": "code",
   "execution_count": 6,
   "metadata": {
    "tags": [
     "outputPrepend"
    ]
   },
   "outputs": [
    {
     "output_type": "stream",
     "name": "stdout",
     "text": [
      "_index': 'PCR90'}, 2898: {'tag_barcode': 'TAG9', 'pcr_index': 'PCR20'}, 6354: {'tag_barcode': 'TAG78', 'pcr_index': 'PCR55'}, 5038: {'tag_barcode': 'TAG2', 'pcr_index': 'PCR68'}, 7768: {'tag_barcode': 'TAG1', 'pcr_index': 'PCR22'}, 6716: {'tag_barcode': 'TAG39', 'pcr_index': 'PCR84'}, 5996: {'tag_barcode': 'TAG14', 'pcr_index': 'PCR62'}, 4690: {'tag_barcode': 'TAG94', 'pcr_index': 'PCR75'}, 5842: {'tag_barcode': 'TAG61', 'pcr_index': 'PCR6'}, 1182: {'tag_barcode': 'TAG21', 'pcr_index': 'PCR66'}, 7454: {'tag_barcode': 'TAG66', 'pcr_index': 'PCR81'}, 6130: {'tag_barcode': 'TAG19', 'pcr_index': 'PCR0'}, 8579: {'tag_barcode': 'TAG57', 'pcr_index': 'PCR77'}, 171: {'tag_barcode': 'TAG18', 'pcr_index': 'PCR18'}, 6134: {'tag_barcode': 'TAG65', 'pcr_index': 'PCR87'}, 7892: {'tag_barcode': 'TAG41', 'pcr_index': 'PCR4'}, 7997: {'tag_barcode': 'TAG44', 'pcr_index': 'PCR73'}, 3801: {'tag_barcode': 'TAG6', 'pcr_index': 'PCR65'}, 6968: {'tag_barcode': 'TAG88', 'pcr_index': 'PCR65'}, 8668: {'tag_barcode': 'TAG52', 'pcr_index': 'PCR45'}, 1765: {'tag_barcode': 'TAG11', 'pcr_index': 'PCR24'}, 5735: {'tag_barcode': 'TAG12', 'pcr_index': 'PCR77'}, 2684: {'tag_barcode': 'TAG6', 'pcr_index': 'PCR33'}, 3354: {'tag_barcode': 'TAG44', 'pcr_index': 'PCR26'}, 5019: {'tag_barcode': 'TAG28', 'pcr_index': 'PCR91'}, 9573: {'tag_barcode': 'TAG37', 'pcr_index': 'PCR74'}, 4512: {'tag_barcode': 'TAG41', 'pcr_index': 'PCR69'}, 6581: {'tag_barcode': 'TAG61', 'pcr_index': 'PCR48'}, 9174: {'tag_barcode': 'TAG77', 'pcr_index': 'PCR72'}, 4074: {'tag_barcode': 'TAG64', 'pcr_index': 'PCR69'}, 2678: {'tag_barcode': 'TAG34', 'pcr_index': 'PCR95'}, 7425: {'tag_barcode': 'TAG9', 'pcr_index': 'PCR16'}, 3677: {'tag_barcode': 'TAG87', 'pcr_index': 'PCR57'}, 1465: {'tag_barcode': 'TAG5', 'pcr_index': 'PCR89'}, 8413: {'tag_barcode': 'TAG26', 'pcr_index': 'PCR67'}, 2125: {'tag_barcode': 'TAG17', 'pcr_index': 'PCR40'}, 6923: {'tag_barcode': 'TAG6', 'pcr_index': 'PCR41'}, 9075: {'tag_barcode': 'TAG19', 'pcr_index': 'PCR7'}, 4943: {'tag_barcode': 'TAG28', 'pcr_index': 'PCR12'}, 9285: {'tag_barcode': 'TAG81', 'pcr_index': 'PCR7'}, 8567: {'tag_barcode': 'TAG33', 'pcr_index': 'PCR46'}, 1294: {'tag_barcode': 'TAG28', 'pcr_index': 'PCR22'}, 2648: {'tag_barcode': 'TAG79', 'pcr_index': 'PCR46'}, 8750: {'tag_barcode': 'TAG86', 'pcr_index': 'PCR55'}, 6307: {'tag_barcode': 'TAG86', 'pcr_index': 'PCR16'}, 4043: {'tag_barcode': 'TAG80', 'pcr_index': 'PCR11'}, 1544: {'tag_barcode': 'TAG74', 'pcr_index': 'PCR88'}, 9380: {'tag_barcode': 'TAG33', 'pcr_index': 'PCR53'}, 9269: {'tag_barcode': 'TAG1', 'pcr_index': 'PCR21'}, 6092: {'tag_barcode': 'TAG82', 'pcr_index': 'PCR78'}, 5664: {'tag_barcode': 'TAG90', 'pcr_index': 'PCR25'}, 9575: {'tag_barcode': 'TAG0', 'pcr_index': 'PCR36'}, 2: {'tag_barcode': 'TAG70', 'pcr_index': 'PCR22'}, 3568: {'tag_barcode': 'TAG81', 'pcr_index': 'PCR3'}, 7086: {'tag_barcode': 'TAG47', 'pcr_index': 'PCR34'}, 3882: {'tag_barcode': 'TAG48', 'pcr_index': 'PCR77'}, 9125: {'tag_barcode': 'TAG80', 'pcr_index': 'PCR36'}, 2686: {'tag_barcode': 'TAG51', 'pcr_index': 'PCR92'}, 4920: {'tag_barcode': 'TAG10', 'pcr_index': 'PCR90'}, 1250: {'tag_barcode': 'TAG8', 'pcr_index': 'PCR44'}, 5251: {'tag_barcode': 'TAG31', 'pcr_index': 'PCR0'}, 8144: {'tag_barcode': 'TAG4', 'pcr_index': 'PCR76'}, 8872: {'tag_barcode': 'TAG42', 'pcr_index': 'PCR8'}, 1982: {'tag_barcode': 'TAG19', 'pcr_index': 'PCR25'}, 2471: {'tag_barcode': 'TAG29', 'pcr_index': 'PCR57'}, 1199: {'tag_barcode': 'TAG21', 'pcr_index': 'PCR11'}, 2846: {'tag_barcode': 'TAG52', 'pcr_index': 'PCR59'}, 6928: {'tag_barcode': 'TAG18', 'pcr_index': 'PCR4'}, 420: {'tag_barcode': 'TAG69', 'pcr_index': 'PCR25'}, 3083: {'tag_barcode': 'TAG66', 'pcr_index': 'PCR65'}, 2312: {'tag_barcode': 'TAG23', 'pcr_index': 'PCR19'}, 8593: {'tag_barcode': 'TAG38', 'pcr_index': 'PCR52'}, 1642: {'tag_barcode': 'TAG21', 'pcr_index': 'PCR47'}, 3709: {'tag_barcode': 'TAG80', 'pcr_index': 'PCR76'}, 5860: {'tag_barcode': 'TAG43', 'pcr_index': 'PCR44'}, 8048: {'tag_barcode': 'TAG23', 'pcr_index': 'PCR60'}, 9598: {'tag_barcode': 'TAG14', 'pcr_index': 'PCR52'}, 6857: {'tag_barcode': 'TAG74', 'pcr_index': 'PCR38'}, 1602: {'tag_barcode': 'TAG11', 'pcr_index': 'PCR80'}, 300: {'tag_barcode': 'TAG92', 'pcr_index': 'PCR18'}, 20: {'tag_barcode': 'TAG13', 'pcr_index': 'PCR26'}, 1566: {'tag_barcode': 'TAG37', 'pcr_index': 'PCR89'}, 9217: {'tag_barcode': 'TAG58', 'pcr_index': 'PCR66'}, 1612: {'tag_barcode': 'TAG81', 'pcr_index': 'PCR56'}, 9518: {'tag_barcode': 'TAG77', 'pcr_index': 'PCR26'}, 7272: {'tag_barcode': 'TAG56', 'pcr_index': 'PCR31'}, 6918: {'tag_barcode': 'TAG55', 'pcr_index': 'PCR62'}, 5558: {'tag_barcode': 'TAG87', 'pcr_index': 'PCR43'}, 608: {'tag_barcode': 'TAG23', 'pcr_index': 'PCR87'}, 5275: {'tag_barcode': 'TAG19', 'pcr_index': 'PCR54'}, 4937: {'tag_barcode': 'TAG7', 'pcr_index': 'PCR77'}, 8229: {'tag_barcode': 'TAG13', 'pcr_index': 'PCR86'}, 3655: {'tag_barcode': 'TAG35', 'pcr_index': 'PCR49'}, 7061: {'tag_barcode': 'TAG34', 'pcr_index': 'PCR14'}, 8107: {'tag_barcode': 'TAG85', 'pcr_index': 'PCR70'}, 7705: {'tag_barcode': 'TAG72', 'pcr_index': 'PCR78'}, 8740: {'tag_barcode': 'TAG64', 'pcr_index': 'PCR93'}, 6334: {'tag_barcode': 'TAG26', 'pcr_index': 'PCR54'}, 6076: {'tag_barcode': 'TAG45', 'pcr_index': 'PCR46'}, 7057: {'tag_barcode': 'TAG66', 'pcr_index': 'PCR60'}, 1790: {'tag_barcode': 'TAG39', 'pcr_index': 'PCR93'}, 7207: {'tag_barcode': 'TAG11', 'pcr_index': 'PCR18'}, 2314: {'tag_barcode': 'TAG80', 'pcr_index': 'PCR37'}, 5947: {'tag_barcode': 'TAG47', 'pcr_index': 'PCR76'}, 3999: {'tag_barcode': 'TAG93', 'pcr_index': 'PCR34'}, 9566: {'tag_barcode': 'TAG56', 'pcr_index': 'PCR59'}, 7693: {'tag_barcode': 'TAG4', 'pcr_index': 'PCR92'}, 4712: {'tag_barcode': 'TAG12', 'pcr_index': 'PCR63'}, 6568: {'tag_barcode': 'TAG79', 'pcr_index': 'PCR28'}, 4353: {'tag_barcode': 'TAG12', 'pcr_index': 'PCR78'}, 696: {'tag_barcode': 'TAG49', 'pcr_index': 'PCR86'}, 2055: {'tag_barcode': 'TAG42', 'pcr_index': 'PCR0'}, 9461: {'tag_barcode': 'TAG18', 'pcr_index': 'PCR80'}, 6214: {'tag_barcode': 'TAG42', 'pcr_index': 'PCR45'}, 1551: {'tag_barcode': 'TAG82', 'pcr_index': 'PCR5'}, 7692: {'tag_barcode': 'TAG66', 'pcr_index': 'PCR4'}, 1181: {'tag_barcode': 'TAG33', 'pcr_index': 'PCR9'}, 4408: {'tag_barcode': 'TAG47', 'pcr_index': 'PCR39'}, 4113: {'tag_barcode': 'TAG42', 'pcr_index': 'PCR43'}, 2718: {'tag_barcode': 'TAG22', 'pcr_index': 'PCR48'}, 5752: {'tag_barcode': 'TAG57', 'pcr_index': 'PCR16'}, 8729: {'tag_barcode': 'TAG81', 'pcr_index': 'PCR73'}, 1286: {'tag_barcode': 'TAG34', 'pcr_index': 'PCR86'}, 8402: {'tag_barcode': 'TAG8', 'pcr_index': 'PCR51'}, 2339: {'tag_barcode': 'TAG95', 'pcr_index': 'PCR9'}, 2728: {'tag_barcode': 'TAG85', 'pcr_index': 'PCR34'}, 5085: {'tag_barcode': 'TAG55', 'pcr_index': 'PCR22'}, 690: {'tag_barcode': 'TAG21', 'pcr_index': 'PCR37'}, 2787: {'tag_barcode': 'TAG13', 'pcr_index': 'PCR34'}, 4243: {'tag_barcode': 'TAG14', 'pcr_index': 'PCR11'}, 691: {'tag_barcode': 'TAG46', 'pcr_index': 'PCR58'}, 4492: {'tag_barcode': 'TAG24', 'pcr_index': 'PCR26'}, 5844: {'tag_barcode': 'TAG45', 'pcr_index': 'PCR21'}, 3710: {'tag_barcode': 'TAG49', 'pcr_index': 'PCR32'}, 8504: {'tag_barcode': 'TAG22', 'pcr_index': 'PCR76'}, 8260: {'tag_barcode': 'TAG57', 'pcr_index': 'PCR77'}, 8688: {'tag_barcode': 'TAG85', 'pcr_index': 'PCR43'}, 7044: {'tag_barcode': 'TAG21', 'pcr_index': 'PCR94'}, 4009: {'tag_barcode': 'TAG14', 'pcr_index': 'PCR78'}, 3146: {'tag_barcode': 'TAG47', 'pcr_index': 'PCR28'}, 87: {'tag_barcode': 'TAG58', 'pcr_index': 'PCR33'}, 9551: {'tag_barcode': 'TAG9', 'pcr_index': 'PCR21'}, 7192: {'tag_barcode': 'TAG33', 'pcr_index': 'PCR82'}, 5982: {'tag_barcode': 'TAG94', 'pcr_index': 'PCR11'}, 2297: {'tag_barcode': 'TAG86', 'pcr_index': 'PCR29'}, 3785: {'tag_barcode': 'TAG79', 'pcr_index': 'PCR82'}, 815: {'tag_barcode': 'TAG59', 'pcr_index': 'PCR31'}, 8701: {'tag_barcode': 'TAG73', 'pcr_index': 'PCR40'}, 4750: {'tag_barcode': 'TAG12', 'pcr_index': 'PCR28'}, 7298: {'tag_barcode': 'TAG80', 'pcr_index': 'PCR16'}, 2720: {'tag_barcode': 'TAG87', 'pcr_index': 'PCR40'}, 6488: {'tag_barcode': 'TAG8', 'pcr_index': 'PCR16'}, 6701: {'tag_barcode': 'TAG47', 'pcr_index': 'PCR31'}, 423: {'tag_barcode': 'TAG93', 'pcr_index': 'PCR68'}, 6992: {'tag_barcode': 'TAG53', 'pcr_index': 'PCR9'}, 7775: {'tag_barcode': 'TAG68', 'pcr_index': 'PCR3'}, 8462: {'tag_barcode': 'TAG69', 'pcr_index': 'PCR24'}, 7277: {'tag_barcode': 'TAG54', 'pcr_index': 'PCR83'}, 1164: {'tag_barcode': 'TAG41', 'pcr_index': 'PCR44'}, 6826: {'tag_barcode': 'TAG41', 'pcr_index': 'PCR50'}, 7742: {'tag_barcode': 'TAG52', 'pcr_index': 'PCR40'}, 6176: {'tag_barcode': 'TAG8', 'pcr_index': 'PCR90'}, 7661: {'tag_barcode': 'TAG28', 'pcr_index': 'PCR33'}, 5131: {'tag_barcode': 'TAG78', 'pcr_index': 'PCR28'}, 7958: {'tag_barcode': 'TAG47', 'pcr_index': 'PCR85'}, 1238: {'tag_barcode': 'TAG38', 'pcr_index': 'PCR33'}, 2406: {'tag_barcode': 'TAG40', 'pcr_index': 'PCR52'}, 8380: {'tag_barcode': 'TAG91', 'pcr_index': 'PCR95'}, 3232: {'tag_barcode': 'TAG9', 'pcr_index': 'PCR19'}, 3188: {'tag_barcode': 'TAG41', 'pcr_index': 'PCR81'}, 5302: {'tag_barcode': 'TAG38', 'pcr_index': 'PCR32'}, 9365: {'tag_barcode': 'TAG28', 'pcr_index': 'PCR13'}, 9577: {'tag_barcode': 'TAG70', 'pcr_index': 'PCR79'}, 287: {'tag_barcode': 'TAG85', 'pcr_index': 'PCR16'}, 1295: {'tag_barcode': 'TAG25', 'pcr_index': 'PCR72'}, 7175: {'tag_barcode': 'TAG30', 'pcr_index': 'PCR22'}, 2642: {'tag_barcode': 'TAG26', 'pcr_index': 'PCR20'}, 5467: {'tag_barcode': 'TAG82', 'pcr_index': 'PCR25'}, 4396: {'tag_barcode': 'TAG7', 'pcr_index': 'PCR61'}, 7066: {'tag_barcode': 'TAG35', 'pcr_index': 'PCR42'}, 2954: {'tag_barcode': 'TAG51', 'pcr_index': 'PCR40'}, 1929: {'tag_barcode': 'TAG38', 'pcr_index': 'PCR87'}, 8086: {'tag_barcode': 'TAG93', 'pcr_index': 'PCR20'}, 6524: {'tag_barcode': 'TAG86', 'pcr_index': 'PCR11'}, 195: {'tag_barcode': 'TAG64', 'pcr_index': 'PCR10'}, 7327: {'tag_barcode': 'TAG68', 'pcr_index': 'PCR22'}, 8109: {'tag_barcode': 'TAG0', 'pcr_index': 'PCR84'}, 3419: {'tag_barcode': 'TAG85', 'pcr_index': 'PCR86'}, 845: {'tag_barcode': 'TAG48', 'pcr_index': 'PCR13'}, 7337: {'tag_barcode': 'TAG88', 'pcr_index': 'PCR66'}, 7716: {'tag_barcode': 'TAG60', 'pcr_index': 'PCR10'}, 9440: {'tag_barcode': 'TAG1', 'pcr_index': 'PCR71'}, 1767: {'tag_barcode': 'TAG60', 'pcr_index': 'PCR19'}, 3352: {'tag_barcode': 'TAG57', 'pcr_index': 'PCR54'}, 5228: {'tag_barcode': 'TAG73', 'pcr_index': 'PCR52'}, 964: {'tag_barcode': 'TAG33', 'pcr_index': 'PCR60'}, 264: {'tag_barcode': 'TAG11', 'pcr_index': 'PCR74'}, 8747: {'tag_barcode': 'TAG14', 'pcr_index': 'PCR87'}, 3163: {'tag_barcode': 'TAG0', 'pcr_index': 'PCR77'}, 5699: {'tag_barcode': 'TAG40', 'pcr_index': 'PCR25'}, 6170: {'tag_barcode': 'TAG22', 'pcr_index': 'PCR58'}, 3407: {'tag_barcode': 'TAG69', 'pcr_index': 'PCR33'}, 2675: {'tag_barcode': 'TAG84', 'pcr_index': 'PCR42'}, 5378: {'tag_barcode': 'TAG71', 'pcr_index': 'PCR58'}, 4330: {'tag_barcode': 'TAG14', 'pcr_index': 'PCR83'}, 5304: {'tag_barcode': 'TAG24', 'pcr_index': 'PCR24'}, 2096: {'tag_barcode': 'TAG80', 'pcr_index': 'PCR32'}, 8305: {'tag_barcode': 'TAG32', 'pcr_index': 'PCR36'}, 5582: {'tag_barcode': 'TAG52', 'pcr_index': 'PCR72'}, 1206: {'tag_barcode': 'TAG72', 'pcr_index': 'PCR1'}, 5665: {'tag_barcode': 'TAG58', 'pcr_index': 'PCR61'}, 2319: {'tag_barcode': 'TAG89', 'pcr_index': 'PCR67'}, 9495: {'tag_barcode': 'TAG53', 'pcr_index': 'PCR18'}, 6605: {'tag_barcode': 'TAG51', 'pcr_index': 'PCR24'}, 978: {'tag_barcode': 'TAG17', 'pcr_index': 'PCR45'}, 5057: {'tag_barcode': 'TAG7', 'pcr_index': 'PCR15'}, 3007: {'tag_barcode': 'TAG75', 'pcr_index': 'PCR90'}, 1615: {'tag_barcode': 'TAG26', 'pcr_index': 'PCR14'}, 2046: {'tag_barcode': 'TAG30', 'pcr_index': 'PCR87'}, 23: {'tag_barcode': 'TAG30', 'pcr_index': 'PCR13'}, 7815: {'tag_barcode': 'TAG2', 'pcr_index': 'PCR30'}, 6744: {'tag_barcode': 'TAG41', 'pcr_index': 'PCR5'}, 394: {'tag_barcode': 'TAG61', 'pcr_index': 'PCR61'}, 1268: {'tag_barcode': 'TAG59', 'pcr_index': 'PCR77'}, 9379: {'tag_barcode': 'TAG5', 'pcr_index': 'PCR91'}, 6201: {'tag_barcode': 'TAG47', 'pcr_index': 'PCR39'}, 9279: {'tag_barcode': 'TAG47', 'pcr_index': 'PCR81'}, 3534: {'tag_barcode': 'TAG32', 'pcr_index': 'PCR41'}, 6070: {'tag_barcode': 'TAG15', 'pcr_index': 'PCR1'}, 8541: {'tag_barcode': 'TAG6', 'pcr_index': 'PCR62'}, 5888: {'tag_barcode': 'TAG73', 'pcr_index': 'PCR76'}, 7165: {'tag_barcode': 'TAG49', 'pcr_index': 'PCR14'}, 7901: {'tag_barcode': 'TAG22', 'pcr_index': 'PCR61'}, 4743: {'tag_barcode': 'TAG66', 'pcr_index': 'PCR94'}, 8696: {'tag_barcode': 'TAG56', 'pcr_index': 'PCR25'}, 7767: {'tag_barcode': 'TAG72', 'pcr_index': 'PCR17'}, 5137: {'tag_barcode': 'TAG95', 'pcr_index': 'PCR89'}, 5095: {'tag_barcode': 'TAG76', 'pcr_index': 'PCR62'}, 7188: {'tag_barcode': 'TAG88', 'pcr_index': 'PCR45'}, 3586: {'tag_barcode': 'TAG87', 'pcr_index': 'PCR50'}, 2519: {'tag_barcode': 'TAG15', 'pcr_index': 'PCR51'}, 2760: {'tag_barcode': 'TAG57', 'pcr_index': 'PCR5'}, 7448: {'tag_barcode': 'TAG28', 'pcr_index': 'PCR21'}, 8159: {'tag_barcode': 'TAG2', 'pcr_index': 'PCR59'}, 4546: {'tag_barcode': 'TAG82', 'pcr_index': 'PCR72'}, 5979: {'tag_barcode': 'TAG6', 'pcr_index': 'PCR6'}, 7652: {'tag_barcode': 'TAG67', 'pcr_index': 'PCR78'}, 5613: {'tag_barcode': 'TAG65', 'pcr_index': 'PCR41'}, 4654: {'tag_barcode': 'TAG21', 'pcr_index': 'PCR12'}, 9374: {'tag_barcode': 'TAG73', 'pcr_index': 'PCR45'}, 8212: {'tag_barcode': 'TAG59', 'pcr_index': 'PCR70'}, 3621: {'tag_barcode': 'TAG47', 'pcr_index': 'PCR92'}, 3925: {'tag_barcode': 'TAG51', 'pcr_index': 'PCR52'}, 6634: {'tag_barcode': 'TAG72', 'pcr_index': 'PCR70'}, 2977: {'tag_barcode': 'TAG50', 'pcr_index': 'PCR42'}, 7276: {'tag_barcode': 'TAG34', 'pcr_index': 'PCR3'}, 1911: {'tag_barcode': 'TAG29', 'pcr_index': 'PCR22'}, 4700: {'tag_barcode': 'TAG36', 'pcr_index': 'PCR30'}, 7884: {'tag_barcode': 'TAG66', 'pcr_index': 'PCR89'}, 596: {'tag_barcode': 'TAG77', 'pcr_index': 'PCR80'}, 84: {'tag_barcode': 'TAG22', 'pcr_index': 'PCR6'}, 6279: {'tag_barcode': 'TAG47', 'pcr_index': 'PCR93'}, 8699: {'tag_barcode': 'TAG47', 'pcr_index': 'PCR14'}, 2708: {'tag_barcode': 'TAG80', 'pcr_index': 'PCR58'}, 2685: {'tag_barcode': 'TAG55', 'pcr_index': 'PCR70'}, 4372: {'tag_barcode': 'TAG59', 'pcr_index': 'PCR78'}, 4972: {'tag_barcode': 'TAG73', 'pcr_index': 'PCR11'}, 360: {'tag_barcode': 'TAG64', 'pcr_index': 'PCR83'}, 8632: {'tag_barcode': 'TAG9', 'pcr_index': 'PCR49'}, 9106: {'tag_barcode': 'TAG7', 'pcr_index': 'PCR46'}, 2062: {'tag_barcode': 'TAG32', 'pcr_index': 'PCR38'}, 823: {'tag_barcode': 'TAG87', 'pcr_index': 'PCR80'}, 2441: {'tag_barcode': 'TAG38', 'pcr_index': 'PCR92'}, 7211: {'tag_barcode': 'TAG95', 'pcr_index': 'PCR72'}, 9531: {'tag_barcode': 'TAG61', 'pcr_index': 'PCR58'}, 4575: {'tag_barcode': 'TAG19', 'pcr_index': 'PCR35'}, 5450: {'tag_barcode': 'TAG36', 'pcr_index': 'PCR32'}, 1637: {'tag_barcode': 'TAG26', 'pcr_index': 'PCR80'}, 1293: {'tag_barcode': 'TAG34', 'pcr_index': 'PCR2'}, 6458: {'tag_barcode': 'TAG48', 'pcr_index': 'PCR31'}, 1191: {'tag_barcode': 'TAG25', 'pcr_index': 'PCR93'}, 7537: {'tag_barcode': 'TAG10', 'pcr_index': 'PCR65'}, 117: {'tag_barcode': 'TAG11', 'pcr_index': 'PCR41'}, 6663: {'tag_barcode': 'TAG50', 'pcr_index': 'PCR39'}, 5051: {'tag_barcode': 'TAG76', 'pcr_index': 'PCR92'}, 2034: {'tag_barcode': 'TAG54', 'pcr_index': 'PCR11'}, 4340: {'tag_barcode': 'TAG55', 'pcr_index': 'PCR50'}, 1064: {'tag_barcode': 'TAG26', 'pcr_index': 'PCR47'}, 1015: {'tag_barcode': 'TAG75', 'pcr_index': 'PCR94'}, 5109: {'tag_barcode': 'TAG44', 'pcr_index': 'PCR68'}, 4304: {'tag_barcode': 'TAG16', 'pcr_index': 'PCR15'}, 9306: {'tag_barcode': 'TAG58', 'pcr_index': 'PCR0'}, 3936: {'tag_barcode': 'TAG78', 'pcr_index': 'PCR94'}, 8755: {'tag_barcode': 'TAG24', 'pcr_index': 'PCR33'}, 5948: {'tag_barcode': 'TAG69', 'pcr_index': 'PCR20'}, 1243: {'tag_barcode': 'TAG26', 'pcr_index': 'PCR46'}, 1824: {'tag_barcode': 'TAG26', 'pcr_index': 'PCR9'}, 1370: {'tag_barcode': 'TAG46', 'pcr_index': 'PCR16'}, 8891: {'tag_barcode': 'TAG91', 'pcr_index': 'PCR80'}, 1050: {'tag_barcode': 'TAG33', 'pcr_index': 'PCR4'}, 5911: {'tag_barcode': 'TAG63', 'pcr_index': 'PCR83'}, 9385: {'tag_barcode': 'TAG2', 'pcr_index': 'PCR93'}, 6045: {'tag_barcode': 'TAG57', 'pcr_index': 'PCR9'}, 8658: {'tag_barcode': 'TAG89', 'pcr_index': 'PCR36'}, 6193: {'tag_barcode': 'TAG85', 'pcr_index': 'PCR53'}, 7047: {'tag_barcode': 'TAG10', 'pcr_index': 'PCR17'}, 6675: {'tag_barcode': 'TAG72', 'pcr_index': 'PCR80'}, 6511: {'tag_barcode': 'TAG61', 'pcr_index': 'PCR29'}, 8172: {'tag_barcode': 'TAG71', 'pcr_index': 'PCR34'}, 788: {'tag_barcode': 'TAG11', 'pcr_index': 'PCR91'}, 7832: {'tag_barcode': 'TAG38', 'pcr_index': 'PCR95'}, 3397: {'tag_barcode': 'TAG31', 'pcr_index': 'PCR50'}, 2024: {'tag_barcode': 'TAG91', 'pcr_index': 'PCR87'}, 4832: {'tag_barcode': 'TAG66', 'pcr_index': 'PCR88'}, 6053: {'tag_barcode': 'TAG58', 'pcr_index': 'PCR51'}, 4792: {'tag_barcode': 'TAG52', 'pcr_index': 'PCR22'}, 7328: {'tag_barcode': 'TAG89', 'pcr_index': 'PCR7'}, 5601: {'tag_barcode': 'TAG34', 'pcr_index': 'PCR51'}, 2637: {'tag_barcode': 'TAG52', 'pcr_index': 'PCR88'}, 528: {'tag_barcode': 'TAG72', 'pcr_index': 'PCR87'}, 6039: {'tag_barcode': 'TAG74', 'pcr_index': 'PCR94'}, 3628: {'tag_barcode': 'TAG71', 'pcr_index': 'PCR75'}, 5685: {'tag_barcode': 'TAG14', 'pcr_index': 'PCR36'}, 2764: {'tag_barcode': 'TAG52', 'pcr_index': 'PCR92'}, 5872: {'tag_barcode': 'TAG55', 'pcr_index': 'PCR84'}, 6990: {'tag_barcode': 'TAG44', 'pcr_index': 'PCR68'}, 2494: {'tag_barcode': 'TAG10', 'pcr_index': 'PCR73'}, 2696: {'tag_barcode': 'TAG34', 'pcr_index': 'PCR1'}, 7039: {'tag_barcode': 'TAG57', 'pcr_index': 'PCR59'}, 4694: {'tag_barcode': 'TAG14', 'pcr_index': 'PCR38'}, 6520: {'tag_barcode': 'TAG2', 'pcr_index': 'PCR89'}, 2460: {'tag_barcode': 'TAG20', 'pcr_index': 'PCR27'}, 8679: {'tag_barcode': 'TAG86', 'pcr_index': 'PCR59'}, 4111: {'tag_barcode': 'TAG65', 'pcr_index': 'PCR73'}, 8765: {'tag_barcode': 'TAG42', 'pcr_index': 'PCR56'}, 5530: {'tag_barcode': 'TAG44', 'pcr_index': 'PCR25'}, 1540: {'tag_barcode': 'TAG37', 'pcr_index': 'PCR74'}, 3203: {'tag_barcode': 'TAG2', 'pcr_index': 'PCR59'}, 9126: {'tag_barcode': 'TAG73', 'pcr_index': 'PCR30'}, 4280: {'tag_barcode': 'TAG68', 'pcr_index': 'PCR59'}, 7853: {'tag_barcode': 'TAG94', 'pcr_index': 'PCR37'}, 5435: {'tag_barcode': 'TAG65', 'pcr_index': 'PCR78'}, 3884: {'tag_barcode': 'TAG29', 'pcr_index': 'PCR83'}, 8009: {'tag_barcode': 'TAG87', 'pcr_index': 'PCR22'}, 2048: {'tag_barcode': 'TAG9', 'pcr_index': 'PCR1'}, 266: {'tag_barcode': 'TAG89', 'pcr_index': 'PCR40'}, 1559: {'tag_barcode': 'TAG39', 'pcr_index': 'PCR67'}, 7979: {'tag_barcode': 'TAG62', 'pcr_index': 'PCR28'}, 482: {'tag_barcode': 'TAG40', 'pcr_index': 'PCR29'}, 9410: {'tag_barcode': 'TAG60', 'pcr_index': 'PCR23'}, 6479: {'tag_barcode': 'TAG29', 'pcr_index': 'PCR73'}, 8181: {'tag_barcode': 'TAG15', 'pcr_index': 'PCR31'}, 6711: {'tag_barcode': 'TAG60', 'pcr_index': 'PCR78'}, 2293: {'tag_barcode': 'TAG11', 'pcr_index': 'PCR5'}, 2500: {'tag_barcode': 'TAG37', 'pcr_index': 'PCR89'}, 7945: {'tag_barcode': 'TAG53', 'pcr_index': 'PCR22'}, 7008: {'tag_barcode': 'TAG95', 'pcr_index': 'PCR57'}, 3392: {'tag_barcode': 'TAG21', 'pcr_index': 'PCR95'}, 7905: {'tag_barcode': 'TAG37', 'pcr_index': 'PCR42'}, 1090: {'tag_barcode': 'TAG68', 'pcr_index': 'PCR91'}, 4600: {'tag_barcode': 'TAG45', 'pcr_index': 'PCR94'}, 1203: {'tag_barcode': 'TAG3', 'pcr_index': 'PCR26'}, 1966: {'tag_barcode': 'TAG35', 'pcr_index': 'PCR80'}, 5819: {'tag_barcode': 'TAG14', 'pcr_index': 'PCR26'}, 4730: {'tag_barcode': 'TAG49', 'pcr_index': 'PCR38'}, 1703: {'tag_barcode': 'TAG93', 'pcr_index': 'PCR81'}, 4410: {'tag_barcode': 'TAG5', 'pcr_index': 'PCR27'}, 7364: {'tag_barcode': 'TAG8', 'pcr_index': 'PCR86'}, 86: {'tag_barcode': 'TAG91', 'pcr_index': 'PCR61'}, 3428: {'tag_barcode': 'TAG88', 'pcr_index': 'PCR20'}, 6530: {'tag_barcode': 'TAG79', 'pcr_index': 'PCR67'}, 2739: {'tag_barcode': 'TAG45', 'pcr_index': 'PCR14'}, 4167: {'tag_barcode': 'TAG88', 'pcr_index': 'PCR77'}}\n"
     ]
    }
   ],
   "source": [
    "second_cell_dict = {}\n",
    "### randomly drawn form the cell_dict \n",
    "for k in range(sort_cell_number):\n",
    "    idx = random.choice(list(cell_dict))\n",
    "    chosen_cell = cell_dict[idx]\n",
    "    cell_dict.pop(idx)\n",
    "    chosen_index = select_randomly_from_list(pcr_index_name_list)\n",
    "    chosen_cell.set_pcr_index(chosen_index)\n",
    "    \n",
    "    ### build some info to work with downstream\n",
    "    cell_information = {\"tag_barcode\" : chosen_cell.get_tag_barcode(), \"pcr_index\" : chosen_cell.get_pcr_index()}\n",
    "    second_cell_dict[idx] = cell_information\n",
    "print(second_cell_dict)"
   ]
  },
  {
   "cell_type": "code",
   "execution_count": 7,
   "metadata": {},
   "outputs": [
    {
     "output_type": "stream",
     "name": "stdout",
     "text": [
      "     tag_barcode pcr_index\n8655       TAG89     PCR57\n8732       TAG80     PCR40\n3629       TAG40     PCR82\n6143        TAG5     PCR58\n5951       TAG34     PCR75\n...          ...       ...\n86         TAG91     PCR61\n3428       TAG88     PCR20\n6530       TAG79     PCR67\n2739       TAG45     PCR14\n4167       TAG88     PCR77\n\n[9600 rows x 2 columns]\n"
     ]
    }
   ],
   "source": [
    "### calculate simulation collition rate\n",
    "import pandas as pd\n",
    "sorted_df = pd.DataFrame.from_dict(second_cell_dict,    orient=\"index\")\n",
    "print(sorted_df)\n"
   ]
  }
 ]
}